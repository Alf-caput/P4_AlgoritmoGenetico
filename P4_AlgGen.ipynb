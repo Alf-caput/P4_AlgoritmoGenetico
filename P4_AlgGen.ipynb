{
  "cells": [
    {
      "cell_type": "markdown",
      "metadata": {
        "colab_type": "text",
        "id": "view-in-github"
      },
      "source": [
        "<a href=\"https://colab.research.google.com/github/Alf-caput/P4_AlgoritmoGenetico/blob/dev3/P4_AlgGen.ipynb\" target=\"_parent\"><img src=\"https://colab.research.google.com/assets/colab-badge.svg\" alt=\"Open In Colab\"/></a>"
      ]
    },
    {
      "cell_type": "markdown",
      "metadata": {
        "id": "5giGahYLeBMH"
      },
      "source": [
        "# PRÁCTICA 4: Algoritmo genético\n",
        "\n",
        "### Ana Robledano, Miguel Egido, Alfredo Robledano.\n",
        "\n",
        "1.- Encontrar los máximos de la función \"picos\"\n",
        "\n",
        "$$z = f(x,y) = 3(1-x)^2e^{-(x^2)-(y+1)^2}-10(x/5-x^3-y^5)e^{-x^2-y^2}-1/3e^{-(x+1)^2-y^2}$$\n",
        "\n",
        "En el dominio $$\\{x,y\\} \\in [-100,100]$$\n"
      ]
    },
    {
      "cell_type": "code",
      "execution_count": 243,
      "metadata": {},
      "outputs": [
        {
          "name": "stdout",
          "output_type": "stream",
          "text": [
            "[[27.885359691576753, -94.99784895546661], [-44.99413632617615, -55.35785237023545], [47.29424283280247, 35.33989748458225], [78.43591354096907, -82.61223347411678], [-15.61563606294591, -94.04055611238593], [-56.27240503927933, 1.0710576206724767], [-94.69280606322728, -60.2324698626703], [29.976887555904653, 8.98829612064334], [-55.911875591860664, 17.85313677518174], [61.88609133556534, -98.7002480643878], [61.163850366561576, 39.62787899764538], [-31.949896696401623, -68.90410003764369], [91.44261444135623, -32.68109097747465], [-81.45083132397042, -80.65672463330719], [69.49887326949195, 20.745206273378216], [61.42565465487604, 45.94635733876359], [7.245618290940143, 94.62315279587412], [-24.29312455832931, 10.408126254645396], [65.88093285059898, 23.703950472849215], [72.34138006215545, 15.470429051352411], [40.914367242984696, -90.83512326886756], [-54.42034486969063, -42.12240727957857], [-84.04160461527451, -53.44182272779396], [-79.79971411805417, -44.40527937798158], [27.136888852880034, -27.033564205983154], [-25.96380657662347, -58.09859384570246], [-46.60443559017733, 87.33091754249881], [29.60707704931872, 21.826201133397632], [-65.7722703603806, 45.82535959006984], [-67.31950124761431, -24.10891164847044], [97.90467012731904, 27.99995197081857], [11.38994875492925, 36.922850197974924]]\n"
          ]
        }
      ],
      "source": [
        "import random\n",
        "from deap import base, creator, tools\n",
        "\n",
        "creator.create(\"FitnessMax\", base.Fitness, weights=(1.0,))\n",
        "creator.create(\"Individual\", list, fitness=creator.FitnessMax)\n",
        "\n",
        "random.seed(42)\n",
        "\n",
        "VALID_RANGE = (-100, 100)\n",
        "INDIVIDUAL_SIZE = 2\n",
        "POPULATION_SIZE = 32\n",
        "\n",
        "toolbox = base.Toolbox()\n",
        "\n",
        "toolbox.register(\"attr_uniform\", random.uniform, *VALID_RANGE)\n",
        "toolbox.register(\"individual\", tools.initRepeat, creator.Individual, toolbox.attr_uniform, INDIVIDUAL_SIZE)\n",
        "toolbox.register(\"population\", tools.initRepeat, list, toolbox.individual, POPULATION_SIZE)\n",
        "\n",
        "population = toolbox.population()\n",
        "print(population)"
      ]
    },
    {
      "cell_type": "code",
      "execution_count": 244,
      "metadata": {},
      "outputs": [],
      "source": [
        "import math\n",
        "from functools import partial\n",
        "\n",
        "F = lambda x, y: 3*(1-x)**2*math.exp(-(x**2)-(y+1)**2)-10*(x/5-x**3-y**5)*math.exp(-x**2-y**2)-1/3*math.exp(-(x+1)**2-y**2)\n",
        "\n",
        "def evaluate(individual, target_function, gene_range):\n",
        "    for gene in individual:\n",
        "        if not (gene_range[0] <= gene <= gene_range[1]):\n",
        "            return -1,\n",
        "    return target_function(*individual),\n",
        "\n",
        "toolbox.register(\"evaluate\", partial(evaluate, target_function=F, gene_range=VALID_RANGE))"
      ]
    },
    {
      "cell_type": "code",
      "execution_count": 245,
      "metadata": {},
      "outputs": [],
      "source": [
        "MU = 0 # mean\n",
        "SIGMA = 5 # standard deviation\n",
        "INDPB = 0.1 # independent probability for each atribute to be mutated\n",
        "TOURNAMENT_SIZE = 3 # tournament size\n",
        "\n",
        "toolbox.register(\"mate\", tools.cxOnePoint)\n",
        "toolbox.register(\"mutate\", tools.mutGaussian, MU, SIGMA, INDPB)\n",
        "toolbox.register(\"select\", tools.selTournament, tournsize=TOURNAMENT_SIZE)"
      ]
    },
    {
      "cell_type": "code",
      "execution_count": 246,
      "metadata": {},
      "outputs": [
        {
          "name": "stdout",
          "output_type": "stream",
          "text": [
            "gen\tnevals\tavg\tstd\tmin\tmax\n",
            "0  \t32    \t0  \t0  \t0  \t0  \n"
          ]
        },
        {
          "ename": "TypeError",
          "evalue": "object of type 'int' has no len()",
          "output_type": "error",
          "traceback": [
            "\u001b[1;31m---------------------------------------------------------------------------\u001b[0m",
            "\u001b[1;31mTypeError\u001b[0m                                 Traceback (most recent call last)",
            "\u001b[1;32mc:\\Users\\alfre\\Desktop\\Utils\\P4_AlgoritmoGenetico\\P4_AlgGen.ipynb Cell 6\u001b[0m line \u001b[0;36m1\n\u001b[0;32m     <a href='vscode-notebook-cell:/c%3A/Users/alfre/Desktop/Utils/P4_AlgoritmoGenetico/P4_AlgGen.ipynb#X11sZmlsZQ%3D%3D?line=15'>16</a>\u001b[0m stats\u001b[39m.\u001b[39mregister(\u001b[39m\"\u001b[39m\u001b[39mmax\u001b[39m\u001b[39m\"\u001b[39m, np\u001b[39m.\u001b[39mmax)\n\u001b[0;32m     <a href='vscode-notebook-cell:/c%3A/Users/alfre/Desktop/Utils/P4_AlgoritmoGenetico/P4_AlgGen.ipynb#X11sZmlsZQ%3D%3D?line=17'>18</a>\u001b[0m logbook \u001b[39m=\u001b[39m tools\u001b[39m.\u001b[39mLogbook()\n\u001b[1;32m---> <a href='vscode-notebook-cell:/c%3A/Users/alfre/Desktop/Utils/P4_AlgoritmoGenetico/P4_AlgGen.ipynb#X11sZmlsZQ%3D%3D?line=18'>19</a>\u001b[0m pop, logbook \u001b[39m=\u001b[39m algorithms\u001b[39m.\u001b[39;49meaSimple(pop, toolbox, cxpb\u001b[39m=\u001b[39;49mCXPB, mutpb\u001b[39m=\u001b[39;49mMUTPB, ngen\u001b[39m=\u001b[39;49mNGEN, stats\u001b[39m=\u001b[39;49mstats, halloffame\u001b[39m=\u001b[39;49mhof, verbose\u001b[39m=\u001b[39;49m\u001b[39mTrue\u001b[39;49;00m)\n",
            "File \u001b[1;32mc:\\Users\\alfre\\Desktop\\Utils\\P4_AlgoritmoGenetico\\.venv\\Lib\\site-packages\\deap\\algorithms.py:168\u001b[0m, in \u001b[0;36meaSimple\u001b[1;34m(population, toolbox, cxpb, mutpb, ngen, stats, halloffame, verbose)\u001b[0m\n\u001b[0;32m    165\u001b[0m offspring \u001b[39m=\u001b[39m toolbox\u001b[39m.\u001b[39mselect(population, \u001b[39mlen\u001b[39m(population))\n\u001b[0;32m    167\u001b[0m \u001b[39m# Vary the pool of individuals\u001b[39;00m\n\u001b[1;32m--> 168\u001b[0m offspring \u001b[39m=\u001b[39m varAnd(offspring, toolbox, cxpb, mutpb)\n\u001b[0;32m    170\u001b[0m \u001b[39m# Evaluate the individuals with an invalid fitness\u001b[39;00m\n\u001b[0;32m    171\u001b[0m invalid_ind \u001b[39m=\u001b[39m [ind \u001b[39mfor\u001b[39;00m ind \u001b[39min\u001b[39;00m offspring \u001b[39mif\u001b[39;00m \u001b[39mnot\u001b[39;00m ind\u001b[39m.\u001b[39mfitness\u001b[39m.\u001b[39mvalid]\n",
            "File \u001b[1;32mc:\\Users\\alfre\\Desktop\\Utils\\P4_AlgoritmoGenetico\\.venv\\Lib\\site-packages\\deap\\algorithms.py:79\u001b[0m, in \u001b[0;36mvarAnd\u001b[1;34m(population, toolbox, cxpb, mutpb)\u001b[0m\n\u001b[0;32m     77\u001b[0m \u001b[39mfor\u001b[39;00m i \u001b[39min\u001b[39;00m \u001b[39mrange\u001b[39m(\u001b[39mlen\u001b[39m(offspring)):\n\u001b[0;32m     78\u001b[0m     \u001b[39mif\u001b[39;00m random\u001b[39m.\u001b[39mrandom() \u001b[39m<\u001b[39m mutpb:\n\u001b[1;32m---> 79\u001b[0m         offspring[i], \u001b[39m=\u001b[39m toolbox\u001b[39m.\u001b[39;49mmutate(offspring[i])\n\u001b[0;32m     80\u001b[0m         \u001b[39mdel\u001b[39;00m offspring[i]\u001b[39m.\u001b[39mfitness\u001b[39m.\u001b[39mvalues\n\u001b[0;32m     82\u001b[0m \u001b[39mreturn\u001b[39;00m offspring\n",
            "File \u001b[1;32mc:\\Users\\alfre\\Desktop\\Utils\\P4_AlgoritmoGenetico\\.venv\\Lib\\site-packages\\deap\\tools\\mutation.py:33\u001b[0m, in \u001b[0;36mmutGaussian\u001b[1;34m(individual, mu, sigma, indpb)\u001b[0m\n\u001b[0;32m     16\u001b[0m \u001b[39mdef\u001b[39;00m \u001b[39mmutGaussian\u001b[39m(individual, mu, sigma, indpb):\n\u001b[0;32m     17\u001b[0m \u001b[39m    \u001b[39m\u001b[39m\"\"\"This function applies a gaussian mutation of mean *mu* and standard\u001b[39;00m\n\u001b[0;32m     18\u001b[0m \u001b[39m    deviation *sigma* on the input individual. This mutation expects a\u001b[39;00m\n\u001b[0;32m     19\u001b[0m \u001b[39m    :term:`sequence` individual composed of real valued attributes.\u001b[39;00m\n\u001b[1;32m   (...)\u001b[0m\n\u001b[0;32m     31\u001b[0m \u001b[39m    functions from the python base :mod:`random` module.\u001b[39;00m\n\u001b[0;32m     32\u001b[0m \u001b[39m    \"\"\"\u001b[39;00m\n\u001b[1;32m---> 33\u001b[0m     size \u001b[39m=\u001b[39m \u001b[39mlen\u001b[39m(individual)\n\u001b[0;32m     34\u001b[0m     \u001b[39mif\u001b[39;00m \u001b[39mnot\u001b[39;00m \u001b[39misinstance\u001b[39m(mu, Sequence):\n\u001b[0;32m     35\u001b[0m         mu \u001b[39m=\u001b[39m repeat(mu, size)\n",
            "\u001b[1;31mTypeError\u001b[0m: object of type 'int' has no len()"
          ]
        }
      ],
      "source": [
        "from deap import algorithms\n",
        "import numpy as np\n",
        "\n",
        "CXPB = 0.5 # probability of mating 2 individuals\n",
        "MUTPB = 0.2 # probabilty of mutating an individual\n",
        "NGEN = 20 # number of generations\n",
        "\n",
        "pop = toolbox.population()\n",
        "\n",
        "hof = tools.HallOfFame(1)\n",
        "stats = tools.Statistics(lambda ind: ind.fitness.values)\n",
        "\n",
        "stats.register(\"avg\", np.mean)\n",
        "stats.register(\"std\", np.std)\n",
        "stats.register(\"min\", np.min)\n",
        "stats.register(\"max\", np.max)\n",
        "\n",
        "logbook = tools.Logbook()\n",
        "pop, logbook = algorithms.eaSimple(pop, toolbox, cxpb=CXPB, mutpb=MUTPB, ngen=NGEN, stats=stats, halloffame=hof, verbose=True)"
      ]
    },
    {
      "cell_type": "code",
      "execution_count": null,
      "metadata": {},
      "outputs": [
        {
          "data": {
            "text/plain": [
              "2"
            ]
          },
          "execution_count": 214,
          "metadata": {},
          "output_type": "execute_result"
        }
      ],
      "source": []
    },
    {
      "cell_type": "markdown",
      "metadata": {
        "id": "WxoYInJtfPWj"
      },
      "source": [
        "2.- Dada la [Función de Rastringin](https://en.wikipedia.org/wiki/Rastrigin_function#:~:text=In%20mathematical%20optimization%2C%20the%20Rastrigin,has%20been%20generalized%20by%20Rudolph.), con A = 10 y  $$\\{xi\\} \\in [-5.12,5.12]$$\n",
        "\n",
        "Implementa dicha función en Python y minimízala para n=10\n",
        "\n",
        "Compara el funcionamiento del Algoritmo Genético para cruce con un punto con cruce con dos puntos"
      ]
    },
    {
      "cell_type": "markdown",
      "metadata": {
        "id": "46D9abD2f3jA"
      },
      "source": [
        "### Instalación de librerías para resolver Algoritmos Genéticos con Python"
      ]
    },
    {
      "cell_type": "code",
      "execution_count": null,
      "metadata": {
        "colab": {
          "base_uri": "https://localhost:8080/"
        },
        "id": "Yc4pv4D7gJ65",
        "outputId": "c8d034a0-b08b-4a1a-e783-fa34574463a7"
      },
      "outputs": [],
      "source": [
        "#!pip install deap\n",
        "#!pip install matplotlib\n",
        "#!pip install numpy\n",
        "#!pip install scipy\n",
        "#!pip install scoop"
      ]
    }
  ],
  "metadata": {
    "colab": {
      "authorship_tag": "ABX9TyNNE1JKj1yFF1TMEEmj2puw",
      "include_colab_link": true,
      "provenance": []
    },
    "kernelspec": {
      "display_name": "Python 3",
      "name": "python3"
    },
    "language_info": {
      "codemirror_mode": {
        "name": "ipython",
        "version": 3
      },
      "file_extension": ".py",
      "mimetype": "text/x-python",
      "name": "python",
      "nbconvert_exporter": "python",
      "pygments_lexer": "ipython3",
      "version": "3.11.4"
    }
  },
  "nbformat": 4,
  "nbformat_minor": 0
}
