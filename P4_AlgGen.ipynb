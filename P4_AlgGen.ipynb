{
  "cells": [
    {
      "cell_type": "markdown",
      "metadata": {
        "id": "view-in-github",
        "colab_type": "text"
      },
      "source": [
        "<a href=\"https://colab.research.google.com/github/Alf-caput/P4_AlgoritmoGenetico/blob/dev2/P4_AlgGen.ipynb\" target=\"_parent\"><img src=\"https://colab.research.google.com/assets/colab-badge.svg\" alt=\"Open In Colab\"/></a>"
      ]
    },
    {
      "cell_type": "markdown",
      "metadata": {
        "id": "5giGahYLeBMH"
      },
      "source": [
        "# PRÁCTICA 4: Algoritmo genético\n",
        "\n",
        "### Ana Robledano, Miguel Egido, Alfredo Robledano.\n",
        "\n",
        "1.- Encontrar los máximos de la función \"picos\"\n",
        "\n",
        "$$z = f(x,y) = 3(1-x)^2e^{-(x^2)-(y+1)^2}-10(x/5-x^3-y^5)e^{-x^2-y^2}-1/3e^{-(x+1)^2-y^2}$$\n",
        "\n",
        "En el dominio $$\\{x,y\\} \\in [-100,100]$$\n"
      ]
    },
    {
      "cell_type": "code",
      "source": [
        "!pip install deap"
      ],
      "metadata": {
        "id": "xIm9mYEP3aKd",
        "outputId": "08af5fa0-f752-4447-ea0e-2bc851a25ddd",
        "colab": {
          "base_uri": "https://localhost:8080/"
        }
      },
      "execution_count": null,
      "outputs": [
        {
          "output_type": "stream",
          "name": "stdout",
          "text": [
            "Requirement already satisfied: deap in /usr/local/lib/python3.10/dist-packages (1.4.1)\n",
            "Requirement already satisfied: numpy in /usr/local/lib/python3.10/dist-packages (from deap) (1.23.5)\n"
          ]
        }
      ]
    },
    {
      "cell_type": "code",
      "execution_count": null,
      "metadata": {
        "id": "Nerh0zTx3Paq",
        "outputId": "bacd6652-3fce-4f61-b95c-b6d2fbe706da",
        "colab": {
          "base_uri": "https://localhost:8080/"
        }
      },
      "outputs": [
        {
          "output_type": "stream",
          "name": "stderr",
          "text": [
            "/usr/local/lib/python3.10/dist-packages/deap/creator.py:185: RuntimeWarning: A class named 'FitnessMax' has already been created and it will be overwritten. Consider deleting previous creation of that class or rename it.\n",
            "  warnings.warn(\"A class named '{0}' has already been created and it \"\n",
            "/usr/local/lib/python3.10/dist-packages/deap/creator.py:185: RuntimeWarning: A class named 'Individual' has already been created and it will be overwritten. Consider deleting previous creation of that class or rename it.\n",
            "  warnings.warn(\"A class named '{0}' has already been created and it \"\n"
          ]
        }
      ],
      "source": [
        "import random\n",
        "from deap import base, creator, tools\n",
        "\n",
        "creator.create(\"FitnessMax\", base.Fitness, weights=(1.0,))\n",
        "creator.create(\"Individual\", list, fitness=creator.FitnessMax)\n",
        "\n",
        "random.seed(42)\n",
        "\n",
        "VALID_RANGE = (-100, 100)\n",
        "INDIVIDUAL_SIZE = 2\n",
        "POPULATION_SIZE = 32\n",
        "\n",
        "toolbox = base.Toolbox()\n",
        "\n",
        "toolbox.register(\"attr_uniform\", random.uniform, *VALID_RANGE)\n",
        "toolbox.register(\"individual\", tools.initRepeat, creator.Individual, toolbox.attr_uniform, INDIVIDUAL_SIZE)\n",
        "toolbox.register(\"population\", tools.initRepeat, list, toolbox.individual, POPULATION_SIZE)"
      ]
    },
    {
      "cell_type": "code",
      "execution_count": null,
      "metadata": {
        "id": "c-S2DC1W3Par"
      },
      "outputs": [],
      "source": [
        "import math\n",
        "from functools import partial\n",
        "\n",
        "F = lambda x, y: 3*(1-x)**2*math.exp(-(x**2)-(y+1)**2)-10*(x/5-x**3-y**5)*math.exp(-x**2-y**2)-1/3*math.exp(-(x+1)**2-y**2)\n",
        "\n",
        "def evaluate_fit(individual, target_function, gene_range):\n",
        "    for gene in individual:\n",
        "        if not (gene_range[0] <= gene <= gene_range[1]):\n",
        "            return -1,\n",
        "    return target_function(*individual),\n",
        "\n",
        "toolbox.register(\"evaluate\", partial(evaluate_fit, target_function=F, gene_range=VALID_RANGE))"
      ]
    },
    {
      "cell_type": "code",
      "execution_count": null,
      "metadata": {
        "id": "oAY4f0oi3Pas"
      },
      "outputs": [],
      "source": [
        "MU = 0 # mean\n",
        "SIGMA = 5 # standard deviation\n",
        "INDPB = 0.1 # independent probability for each atribute to be mutated\n",
        "TOURNAMENT_SIZE = 3\n",
        "\n",
        "toolbox.register(\"mate\", tools.cxOnePoint)\n",
        "toolbox.register(\"mutate\", tools.mutGaussian, mu=MU, sigma=SIGMA, indpb=INDPB)\n",
        "toolbox.register(\"select\", tools.selTournament, tournsize=TOURNAMENT_SIZE)"
      ]
    },
    {
      "cell_type": "code",
      "execution_count": null,
      "metadata": {
        "id": "E8GnF2bC3Pas",
        "outputId": "01309d21-2586-4d68-af5e-4dc188f3c13f",
        "colab": {
          "base_uri": "https://localhost:8080/"
        }
      },
      "outputs": [
        {
          "output_type": "stream",
          "name": "stdout",
          "text": [
            "<class 'list'>\n",
            "gen\tnevals\tavg          \tstd\tmin          \tmax\n",
            "0  \t32    \t-2.16768e-285\t0  \t-6.93659e-284\t0  \n",
            "1  \t19    \t0            \t0  \t0            \t0  \n",
            "2  \t27    \t-1.44113e-130\t8.02388e-130\t-4.61162e-129\t0  \n",
            "3  \t17    \t0            \t0           \t0            \t0  \n",
            "4  \t20    \t0            \t0           \t0            \t0  \n",
            "5  \t19    \t0            \t0           \t0            \t0  \n",
            "6  \t18    \t0            \t0           \t0            \t0  \n",
            "7  \t17    \t0            \t0           \t0            \t0  \n",
            "8  \t20    \t0            \t0           \t0            \t0  \n",
            "9  \t13    \t0            \t0           \t0            \t0  \n",
            "10 \t20    \t0            \t0           \t0            \t0  \n",
            "11 \t21    \t0            \t0           \t0            \t0  \n",
            "12 \t18    \t0            \t0           \t0            \t0  \n",
            "13 \t23    \t0            \t0           \t0            \t0  \n",
            "14 \t18    \t0            \t0           \t0            \t0  \n",
            "15 \t18    \t0            \t0           \t0            \t0  \n",
            "16 \t19    \t-0.03125     \t0.173993    \t-1           \t0  \n",
            "17 \t17    \t0            \t0           \t0            \t0  \n",
            "18 \t28    \t0            \t0           \t0            \t0  \n",
            "19 \t18    \t0            \t0           \t0            \t0  \n",
            "20 \t22    \t-0.03125     \t0.173993    \t-1           \t0  \n"
          ]
        }
      ],
      "source": [
        "from deap import algorithms\n",
        "import numpy as np\n",
        "\n",
        "CXPB = 0.5 # probability of mating 2 individuals\n",
        "MUTPB = 0.2 # probabilty of mutating an individual\n",
        "NGEN = 20 # number of generations\n",
        "\n",
        "pop = toolbox.population()\n",
        "print(type(pop))\n",
        "\n",
        "hof = tools.HallOfFame(1)\n",
        "stats = tools.Statistics(lambda ind: ind.fitness.values)\n",
        "\n",
        "stats.register(\"avg\", np.mean)\n",
        "stats.register(\"std\", np.std)\n",
        "stats.register(\"min\", np.min)\n",
        "stats.register(\"max\", np.max)\n",
        "\n",
        "logbook = tools.Logbook()\n",
        "pop, logbook = algorithms.eaSimple(pop, toolbox, cxpb=CXPB, mutpb=MUTPB, ngen=NGEN, stats=stats, halloffame=hof, verbose=True)"
      ]
    },
    {
      "cell_type": "code",
      "execution_count": null,
      "metadata": {
        "id": "UDOosbZC3Pas"
      },
      "outputs": [],
      "source": []
    },
    {
      "cell_type": "markdown",
      "metadata": {
        "id": "WxoYInJtfPWj"
      },
      "source": [
        "2.- Dada la [Función de Rastringin](https://en.wikipedia.org/wiki/Rastrigin_function#:~:text=In%20mathematical%20optimization%2C%20the%20Rastrigin,has%20been%20generalized%20by%20Rudolph.), con A = 10 y  $$\\{xi\\} \\in [-5.12,5.12]$$\n",
        "\n",
        "Implementa dicha función en Python y minimízala para n=10\n",
        "\n",
        "Compara el funcionamiento del Algoritmo Genético para cruce con un punto con cruce con dos puntos"
      ]
    },
    {
      "cell_type": "markdown",
      "metadata": {
        "id": "46D9abD2f3jA"
      },
      "source": [
        "### Instalación de librerías para resolver Algoritmos Genéticos con Python"
      ]
    },
    {
      "cell_type": "code",
      "execution_count": null,
      "metadata": {
        "id": "Yc4pv4D7gJ65"
      },
      "outputs": [],
      "source": [
        "#!pip install deap\n",
        "#!pip install matplotlib\n",
        "#!pip install numpy\n",
        "#!pip install scipy\n",
        "#!pip install scoop"
      ]
    }
  ],
  "metadata": {
    "colab": {
      "provenance": [],
      "include_colab_link": true
    },
    "kernelspec": {
      "display_name": "Python 3",
      "name": "python3"
    },
    "language_info": {
      "codemirror_mode": {
        "name": "ipython",
        "version": 3
      },
      "file_extension": ".py",
      "mimetype": "text/x-python",
      "name": "python",
      "nbconvert_exporter": "python",
      "pygments_lexer": "ipython3",
      "version": "3.11.4"
    }
  },
  "nbformat": 4,
  "nbformat_minor": 0
}