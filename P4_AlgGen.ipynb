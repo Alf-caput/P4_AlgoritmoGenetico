{
  "cells": [
    {
      "cell_type": "markdown",
      "metadata": {
        "colab_type": "text",
        "id": "view-in-github"
      },
      "source": [
        "<a href=\"https://colab.research.google.com/github/Alf-caput/P4_AlgoritmoGenetico/blob/dev3/P4_AlgGen.ipynb\" target=\"_parent\"><img src=\"https://colab.research.google.com/assets/colab-badge.svg\" alt=\"Open In Colab\"/></a>"
      ]
    },
    {
      "cell_type": "markdown",
      "metadata": {
        "id": "5giGahYLeBMH"
      },
      "source": [
        "# PRÁCTICA 4: Algoritmo genético\n",
        "\n",
        "### Ana Robledano, Miguel Egido, Alfredo Robledano.\n",
        "\n",
        "1.- Encontrar los máximos de la función \"picos\"\n",
        "\n",
        "$$z = f(x,y) = 3(1-x)^2e^{-(x^2)-(y+1)^2}-10(x/5-x^3-y^5)e^{-x^2-y^2}-1/3e^{-(x+1)^2-y^2}$$\n",
        "\n",
        "En el dominio $$\\{x,y\\} \\in [-100,100]$$\n"
      ]
    },
    {
      "cell_type": "code",
      "execution_count": 167,
      "metadata": {},
      "outputs": [
        {
          "name": "stdout",
          "output_type": "stream",
          "text": [
            "[[27.885359691576753, -94.99784895546661], [-44.99413632617615, -55.35785237023545], [47.29424283280247, 35.33989748458225], [78.43591354096907, -82.61223347411678], [-15.61563606294591, -94.04055611238593], [-56.27240503927933, 1.0710576206724767], [-94.69280606322728, -60.2324698626703], [29.976887555904653, 8.98829612064334], [-55.911875591860664, 17.85313677518174], [61.88609133556534, -98.7002480643878], [61.163850366561576, 39.62787899764538], [-31.949896696401623, -68.90410003764369], [91.44261444135623, -32.68109097747465], [-81.45083132397042, -80.65672463330719], [69.49887326949195, 20.745206273378216], [61.42565465487604, 45.94635733876359], [7.245618290940143, 94.62315279587412], [-24.29312455832931, 10.408126254645396], [65.88093285059898, 23.703950472849215], [72.34138006215545, 15.470429051352411], [40.914367242984696, -90.83512326886756], [-54.42034486969063, -42.12240727957857], [-84.04160461527451, -53.44182272779396], [-79.79971411805417, -44.40527937798158], [27.136888852880034, -27.033564205983154], [-25.96380657662347, -58.09859384570246], [-46.60443559017733, 87.33091754249881], [29.60707704931872, 21.826201133397632], [-65.7722703603806, 45.82535959006984], [-67.31950124761431, -24.10891164847044], [97.90467012731904, 27.99995197081857], [11.38994875492925, 36.922850197974924]]\n"
          ]
        }
      ],
      "source": [
        "import random\n",
        "from deap import base, creator, tools\n",
        "\n",
        "creator.create(\"FitnessMax\", base.Fitness, weights=(1.0,))\n",
        "creator.create(\"Individual\", list, fitness=creator.FitnessMax)\n",
        "\n",
        "toolbox = base.Toolbox()\n",
        "\n",
        "random.seed(42)\n",
        "gene_range = (-100, 100)\n",
        "individual_size = 2\n",
        "\n",
        "toolbox.register(\"attr_uniform\", random.uniform, *gene_range)\n",
        "toolbox.register(\"individual\", tools.initRepeat, creator.Individual, toolbox.attr_uniform, individual_size)\n",
        "toolbox.register(\"population\", tools.initRepeat, list, toolbox.individual)\n",
        "\n",
        "population_size = 32\n",
        "population = toolbox.population(population_size)\n",
        "print(population)"
      ]
    },
    {
      "cell_type": "code",
      "execution_count": 168,
      "metadata": {},
      "outputs": [],
      "source": [
        "import math\n",
        "from functools import partial\n",
        "\n",
        "target_function = lambda x, y: 3*(1-x)**2*math.exp(-(x**2)-(y+1)**2)-10*(x/5-x**3-y**5)*math.exp(-x**2-y**2)-1/3*math.exp(-(x+1)**2-y**2)\n",
        "\n",
        "def evaluate(target_function, gene_range, individual):\n",
        "    for gene in individual:\n",
        "        if not (gene_range[0] < gene < gene_range[1]):\n",
        "            return -1\n",
        "    return target_function(*individual)\n",
        "\n",
        "toolbox.register(\"evaluate\", partial(evaluate, target_function, gene_range))"
      ]
    },
    {
      "cell_type": "code",
      "execution_count": 169,
      "metadata": {},
      "outputs": [
        {
          "data": {
            "text/plain": [
              "[27.885359691576753, -94.99784895546661]"
            ]
          },
          "execution_count": 169,
          "metadata": {},
          "output_type": "execute_result"
        }
      ],
      "source": [
        "population[0]"
      ]
    },
    {
      "cell_type": "markdown",
      "metadata": {
        "id": "WxoYInJtfPWj"
      },
      "source": [
        "2.- Dada la [Función de Rastringin](https://en.wikipedia.org/wiki/Rastrigin_function#:~:text=In%20mathematical%20optimization%2C%20the%20Rastrigin,has%20been%20generalized%20by%20Rudolph.), con A = 10 y  $$\\{xi\\} \\in [-5.12,5.12]$$\n",
        "\n",
        "Implementa dicha función en Python y minimízala para n=10\n",
        "\n",
        "Compara el funcionamiento del Algoritmo Genético para cruce con un punto con cruce con dos puntos"
      ]
    },
    {
      "cell_type": "markdown",
      "metadata": {
        "id": "46D9abD2f3jA"
      },
      "source": [
        "### Instalación de librerías para resolver Algoritmos Genéticos con Python"
      ]
    },
    {
      "cell_type": "code",
      "execution_count": 170,
      "metadata": {
        "colab": {
          "base_uri": "https://localhost:8080/"
        },
        "id": "Yc4pv4D7gJ65",
        "outputId": "c8d034a0-b08b-4a1a-e783-fa34574463a7"
      },
      "outputs": [],
      "source": [
        "#!pip install deap\n",
        "#!pip install matplotlib\n",
        "#!pip install numpy\n",
        "#!pip install scipy\n",
        "#!pip install scoop"
      ]
    }
  ],
  "metadata": {
    "colab": {
      "authorship_tag": "ABX9TyNNE1JKj1yFF1TMEEmj2puw",
      "include_colab_link": true,
      "provenance": []
    },
    "kernelspec": {
      "display_name": "Python 3",
      "name": "python3"
    },
    "language_info": {
      "codemirror_mode": {
        "name": "ipython",
        "version": 3
      },
      "file_extension": ".py",
      "mimetype": "text/x-python",
      "name": "python",
      "nbconvert_exporter": "python",
      "pygments_lexer": "ipython3",
      "version": "3.11.4"
    }
  },
  "nbformat": 4,
  "nbformat_minor": 0
}
