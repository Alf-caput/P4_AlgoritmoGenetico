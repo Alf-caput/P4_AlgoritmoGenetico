{
  "nbformat": 4,
  "nbformat_minor": 0,
  "metadata": {
    "colab": {
      "provenance": [],
      "authorship_tag": "ABX9TyN+zCEr2wTKODj0ZN/kVLGo",
      "include_colab_link": true
    },
    "kernelspec": {
      "name": "python3",
      "display_name": "Python 3"
    },
    "language_info": {
      "name": "python"
    }
  },
  "cells": [
    {
      "cell_type": "markdown",
      "metadata": {
        "id": "view-in-github",
        "colab_type": "text"
      },
      "source": [
        "<a href=\"https://colab.research.google.com/github/Alf-caput/P4_AlgoritmoGenetico/blob/dev3/P4_AlgGen.ipynb\" target=\"_parent\"><img src=\"https://colab.research.google.com/assets/colab-badge.svg\" alt=\"Open In Colab\"/></a>"
      ]
    },
    {
      "cell_type": "markdown",
      "source": [
        "# PRÁCTICA 4: Algoritmo genético\n",
        "\n",
        "###Ana Robledano, Miguel Egido, Alfredo Robledano.\n",
        "\n",
        "1.- Encontrar los máximos de la función \"picos\"\n",
        "\n",
        "$$z = f(x,y) = 3(1-x)^2e^{-(x^2)-(y+1)^2}-10(x/5-x^3-y^5)e^{-x^2-y^2}-1/3e^{-(x+1)^2-y^2}$$\n",
        "\n",
        "En el dominio $$\\{x,y\\} \\in [-100,100]$$\n"
      ],
      "metadata": {
        "id": "5giGahYLeBMH"
      }
    },
    {
      "cell_type": "markdown",
      "source": [
        "2.- Dada la [Función de Rastringin](https://en.wikipedia.org/wiki/Rastrigin_function#:~:text=In%20mathematical%20optimization%2C%20the%20Rastrigin,has%20been%20generalized%20by%20Rudolph.), con A = 10 y  $$\\{xi\\} \\in [-5.12,5.12]$$\n",
        "\n",
        "Implementa dicha función en Python y minimízala para n=10\n",
        "\n",
        "Compara el funcionamiento del Algoritmo Genético para cruce con un punto con cruce con dos puntos"
      ],
      "metadata": {
        "id": "WxoYInJtfPWj"
      }
    },
    {
      "cell_type": "markdown",
      "source": [
        "### Instalación de librerías para resolver Algoritmos Genéticos con Python"
      ],
      "metadata": {
        "id": "46D9abD2f3jA"
      }
    },
    {
      "cell_type": "code",
      "source": [
        "!pip install deap\n",
        "!pip install matplotlib\n",
        "!pip install numpy\n",
        "!pip install scipy\n",
        "!pip install scoop"
      ],
      "metadata": {
        "colab": {
          "base_uri": "https://localhost:8080/"
        },
        "id": "Yc4pv4D7gJ65",
        "outputId": "c8d034a0-b08b-4a1a-e783-fa34574463a7"
      },
      "execution_count": 1,
      "outputs": [
        {
          "output_type": "stream",
          "name": "stdout",
          "text": [
            "Collecting deap\n",
            "  Downloading deap-1.4.1-cp310-cp310-manylinux_2_5_x86_64.manylinux1_x86_64.manylinux_2_17_x86_64.manylinux2014_x86_64.whl (135 kB)\n",
            "\u001b[?25l     \u001b[90m━━━━━━━━━━━━━━━━━━━━━━━━━━━━━━━━━━━━━━━━\u001b[0m \u001b[32m0.0/135.4 kB\u001b[0m \u001b[31m?\u001b[0m eta \u001b[36m-:--:--\u001b[0m\r\u001b[2K     \u001b[90m━━━━━━━━━━━━━━━━━━━━━━━━━━━━━━━━━━━━━━━━\u001b[0m \u001b[32m135.4/135.4 kB\u001b[0m \u001b[31m4.0 MB/s\u001b[0m eta \u001b[36m0:00:00\u001b[0m\n",
            "\u001b[?25hRequirement already satisfied: numpy in /usr/local/lib/python3.10/dist-packages (from deap) (1.23.5)\n",
            "Installing collected packages: deap\n",
            "Successfully installed deap-1.4.1\n",
            "Requirement already satisfied: matplotlib in /usr/local/lib/python3.10/dist-packages (3.7.1)\n",
            "Requirement already satisfied: contourpy>=1.0.1 in /usr/local/lib/python3.10/dist-packages (from matplotlib) (1.2.0)\n",
            "Requirement already satisfied: cycler>=0.10 in /usr/local/lib/python3.10/dist-packages (from matplotlib) (0.12.1)\n",
            "Requirement already satisfied: fonttools>=4.22.0 in /usr/local/lib/python3.10/dist-packages (from matplotlib) (4.45.1)\n",
            "Requirement already satisfied: kiwisolver>=1.0.1 in /usr/local/lib/python3.10/dist-packages (from matplotlib) (1.4.5)\n",
            "Requirement already satisfied: numpy>=1.20 in /usr/local/lib/python3.10/dist-packages (from matplotlib) (1.23.5)\n",
            "Requirement already satisfied: packaging>=20.0 in /usr/local/lib/python3.10/dist-packages (from matplotlib) (23.2)\n",
            "Requirement already satisfied: pillow>=6.2.0 in /usr/local/lib/python3.10/dist-packages (from matplotlib) (9.4.0)\n",
            "Requirement already satisfied: pyparsing>=2.3.1 in /usr/local/lib/python3.10/dist-packages (from matplotlib) (3.1.1)\n",
            "Requirement already satisfied: python-dateutil>=2.7 in /usr/local/lib/python3.10/dist-packages (from matplotlib) (2.8.2)\n",
            "Requirement already satisfied: six>=1.5 in /usr/local/lib/python3.10/dist-packages (from python-dateutil>=2.7->matplotlib) (1.16.0)\n",
            "Requirement already satisfied: numpy in /usr/local/lib/python3.10/dist-packages (1.23.5)\n",
            "Requirement already satisfied: scipy in /usr/local/lib/python3.10/dist-packages (1.11.4)\n",
            "Requirement already satisfied: numpy<1.28.0,>=1.21.6 in /usr/local/lib/python3.10/dist-packages (from scipy) (1.23.5)\n",
            "Collecting scoop\n",
            "  Downloading scoop-0.7.2.0.tar.gz (615 kB)\n",
            "\u001b[2K     \u001b[90m━━━━━━━━━━━━━━━━━━━━━━━━━━━━━━━━━━━━━━━━\u001b[0m \u001b[32m615.4/615.4 kB\u001b[0m \u001b[31m8.3 MB/s\u001b[0m eta \u001b[36m0:00:00\u001b[0m\n",
            "\u001b[?25h  Preparing metadata (setup.py) ... \u001b[?25l\u001b[?25hdone\n",
            "Requirement already satisfied: greenlet>=0.3.4 in /usr/local/lib/python3.10/dist-packages (from scoop) (3.0.1)\n",
            "Requirement already satisfied: pyzmq>=13.1.0 in /usr/local/lib/python3.10/dist-packages (from scoop) (23.2.1)\n",
            "Building wheels for collected packages: scoop\n",
            "  Building wheel for scoop (setup.py) ... \u001b[?25l\u001b[?25hdone\n",
            "  Created wheel for scoop: filename=scoop-0.7.2.0-py3-none-any.whl size=78113 sha256=507d5762f3b32901588b06743c631890d758d26df58c293f3a0f51bea01cf209\n",
            "  Stored in directory: /root/.cache/pip/wheels/26/c6/da/088e4bffcfbc33fa40644ca636267bc801c8fd9eef973483db\n",
            "Successfully built scoop\n",
            "Installing collected packages: scoop\n",
            "Successfully installed scoop-0.7.2.0\n"
          ]
        }
      ]
    },
    {
      "cell_type": "markdown",
      "source": [
        "### Definición del problema ###\n"
      ],
      "metadata": {
        "id": "1eInqwBcgwRf"
      }
    },
    {
      "cell_type": "markdown",
      "source": [
        "En este problema, la cadena cromosomática estaría formada por dos genes (cromosomas), que, al confinarse en forma de lista, quedaría como: $[x_i, y_i]$ con $i = 1, 2, ... , n$\n",
        "\n",
        "La **población** del algoritmo **no cambia de tamaño** a lo largo de las generaciones, con lo que **n** será **constante**"
      ],
      "metadata": {
        "id": "48XseHq4hhR2"
      }
    },
    {
      "cell_type": "code",
      "source": [
        "import random\n",
        "import math\n",
        "import numpy as np\n",
        "from deap import base\n",
        "from deap import creator\n",
        "from deap import tools\n",
        "from deap import algorithms\n",
        "import matplotlib.pyplot as plt"
      ],
      "metadata": {
        "id": "1DhJnBTvg7q4"
      },
      "execution_count": null,
      "outputs": []
    },
    {
      "cell_type": "markdown",
      "source": [
        "#### NOTA SOBRE NÚMEROS ALEATORIOS:"
      ],
      "metadata": {
        "id": "qZ5JYgw7h02O"
      }
    },
    {
      "cell_type": "markdown",
      "source": [
        "Queremos generar números aleatorios entre -100 y 100 (sin incluir a estos). Para ello usaremos el módulo nativo random de generación de números pseudoaleatorios [Documentación librería random](https://docs.python.org/3/library/random.html) y `numpy.random`(para generación de vectores psudoaleatorios) [Documentación numpy.random](https://docs.scipy.org/doc/numpy-1.16.1/reference/routines.random.html). Aunque los números totalmente aleatorios no existen en programación.\n",
        "\n",
        "Utilizamos, además, el método `uniform`: [Documentación método uniform](https://docs.python.org/3.6/library/random.html)"
      ],
      "metadata": {
        "id": "VXg-BnRah-sf"
      }
    },
    {
      "cell_type": "code",
      "source": [
        "# Importamos la librería\n",
        "import random\n",
        "# Fijamos la semilla. Si no cambiamos la semilla,\n",
        "# la función generará los mismos número aleatorios\n",
        "random.seed(0)\n",
        "# Generamos los números pseudo-aleatorios en 2 list comprenhension\n",
        "# para encapsular todos los datos en las listas x e y\n",
        "x = [random.uniform(-100, 100) for i in range(10)]\n",
        "y = [random.uniform(-100, 100) for i in range(10)]\n",
        "print('x= ', x)\n",
        "print('y= ', y)"
      ],
      "metadata": {
        "id": "-cURO01Th7Vm"
      },
      "execution_count": null,
      "outputs": []
    },
    {
      "cell_type": "markdown",
      "source": [
        "Otra posibilidad es generar dos vectores de diez valores comprendidos entre -100 y 100, con una forma (1,10) (1 fila y 10 columnas). Serían dos vectores de tipo fila con diez valores"
      ],
      "metadata": {
        "id": "sYPS-K3CicV8"
      }
    },
    {
      "cell_type": "code",
      "source": [
        "import numpy as np\n",
        "# Fijamos la semilla\n",
        "np.random.seed(0)\n",
        "# Generamos los números pseudo-aleatorios\n",
        "# Son los mismos mientras no cambiemos la semilla\n",
        "# Numpy genera directamente los vectores\n",
        "z = np.random.uniform(-100, 100, 10).reshape(1, 10)\n",
        "t = np.random.uniform(-100, 100, 10).reshape(1, 10)\n",
        "print('z= ', z)\n",
        "print('t= ', t)"
      ],
      "metadata": {
        "id": "4CG6TpibimpK"
      },
      "execution_count": null,
      "outputs": []
    },
    {
      "cell_type": "markdown",
      "source": [
        "Hay que tener en cuenta que las soluciones deben ser válidas y una solución sería **no válida** si alguna de las variables independientes se saliera de los **rangos establecidos**. Es común en los problemas de optimización tener restricciones en las variables, por lo que siempre tendremos que **comprobar la validez de nuestras soluciones**"
      ],
      "metadata": {
        "id": "2mvqLmUwisaA"
      }
    },
    {
      "cell_type": "markdown",
      "source": [
        "#### NOTA 2: ESPACIO DE BÚSQUEDA O DOMINIO DE LA SOLUCIÓN -"
      ],
      "metadata": {
        "id": "wlhYCyd4iyHM"
      }
    },
    {
      "cell_type": "markdown",
      "source": [
        "Vamos a resolverlo con Algoritmo Genético como ejercício, aunque cualquier algoritmo de optimización basado en gradiente de los que vienen incluidos en el módulo `optimize` de `scipy`([módulo optimize en scipy](https://docs.scipy.org/doc/scipy/reference/generated/scipy.optimize.minimize.html#scipy.optimize.minimize)) nos valdría para obtener una solución a nuestro problema de manera sencilla, ya que nuestra función es **convexa**\n",
        "\n",
        "Recordar que: Los AGs se deben emplear en **problemas de optimización** en los que la solución óptima **no se conozca** y ni siquiera tengamos una **aproximación** a la misma o incluso **ni siquiera se tenga la certeza** de que podamos obtenerla.\n",
        "\n",
        "Aunque el **uso de AGs no nos da certeza de obtener la solución óptima**, si obtendremos una solución **bastante buena** y en un **tiempo razonable**. Siempre vamos a terminar con una solución al problema que **será mejor que realizar una búsqueda totalmente aleatoria**"
      ],
      "metadata": {
        "id": "6Ggrc8Byi3bC"
      }
    },
    {
      "cell_type": "markdown",
      "source": [
        "### Definición de la función del enunciado ###"
      ],
      "metadata": {
        "id": "ZlayBAl-jamv"
      }
    },
    {
      "cell_type": "code",
      "source": [
        "# Importamos las librerías necesarias\n",
        "import numpy as np\n",
        "import matplotlib.pyplot as plt\n",
        "from mpl_toolkits.mplot3d import Axes3D\n",
        "from matplotlib import cm"
      ],
      "metadata": {
        "id": "YG9Frv0qkOZa"
      },
      "execution_count": null,
      "outputs": []
    },
    {
      "cell_type": "code",
      "source": [
        "# Definimos la función objetivo\n",
        "import math\n",
        "f = lambda x, y: 3*(1-x)**2*math.exp(-(x**2)-(y+1)**2)-10(x/5-x**3-y**5)*math.exp(-x**2-y**2)-1/3*math.exp(-x+1)**2-y**2"
      ],
      "metadata": {
        "id": "0cCfUGZdkjId"
      },
      "execution_count": null,
      "outputs": []
    },
    {
      "cell_type": "markdown",
      "source": [
        "[numpy.linspace](https://numpy.org/doc/stable/reference/generated/numpy.linspace.html)"
      ],
      "metadata": {
        "id": "0Q6pG2gKkrA1"
      }
    },
    {
      "cell_type": "code",
      "source": [
        "# Generamos vectores que barran todo el dominio\n",
        "x = np.linspace(-100, 100, 1000)\n",
        "y = np.linspace(-100, 100, 1000)\n",
        "print('x= ', x)\n",
        "print('y= ', y)"
      ],
      "metadata": {
        "id": "GjaF_9Hlkmi4"
      },
      "execution_count": null,
      "outputs": []
    },
    {
      "cell_type": "markdown",
      "source": [
        "[numpy.meshgrid](https://numpy.org/doc/stable/reference/generated/numpy.meshgrid.html)\n",
        "\n",
        "[numpy.ravel](https://numpy.org/doc/stable/reference/generated/numpy.ravel.html)\n",
        "\n",
        "[numpy.c_](https://numpy.org/doc/stable/reference/generated/numpy.c_.html)"
      ],
      "metadata": {
        "id": "EfuwHE2AjmnN"
      }
    },
    {
      "cell_type": "code",
      "source": [
        "# Evaluamos todos los valores de las variables\n"
      ],
      "metadata": {
        "id": "iQidF6uhlC4b"
      },
      "execution_count": null,
      "outputs": []
    },
    {
      "cell_type": "markdown",
      "source": [
        "[matplotlib.pyplot.gca](https://matplotlib.org/3.1.1/api/_as_gen/matplotlib.pyplot.gca.html)"
      ],
      "metadata": {
        "id": "R6Vt-liMlF4i"
      }
    },
    {
      "cell_type": "code",
      "source": [
        "# Representamos los resultados obtenidos"
      ],
      "metadata": {
        "id": "-AXIJSVglGgN"
      },
      "execution_count": null,
      "outputs": []
    },
    {
      "cell_type": "markdown",
      "source": [
        "A partir de ahora veremos los siguientes pasos:\n",
        "1. Definición del problema y generación de la población inicial\n",
        "- 1.1 Creación del problema\n",
        "- 1.2 Creación de la plantilla del individuo\n",
        "- 1.3 Crear individuos aleatorios y población inicial\n",
        "2. Función objetivo y operadores genéticos\n",
        "- 2.1 Función objetivo\n",
        "3. Incorporación de los operadores genéticos\n",
        "4. Últimos pasos: Algortimo Genético como caja negra\n",
        "- 4.1 Configuración algoritmo genético\n",
        "- 4.2 Resultados del algoritmo genético\n",
        "5. ¿Cómo conseguir resultados consistentes?\n",
        "6. Convergencia del algoritmo"
      ],
      "metadata": {
        "id": "KNvNJVTLlNIW"
      }
    },
    {
      "cell_type": "markdown",
      "source": [],
      "metadata": {
        "id": "wAEtoEEpla-m"
      }
    }
  ]
}