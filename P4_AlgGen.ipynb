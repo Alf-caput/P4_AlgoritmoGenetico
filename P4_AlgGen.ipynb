{
  "nbformat": 4,
  "nbformat_minor": 0,
  "metadata": {
    "colab": {
      "provenance": [],
      "authorship_tag": "ABX9TyNj470e9lmUEO1dM3hENC7H",
      "include_colab_link": true
    },
    "kernelspec": {
      "name": "python3",
      "display_name": "Python 3"
    },
    "language_info": {
      "name": "python"
    }
  },
  "cells": [
    {
      "cell_type": "markdown",
      "metadata": {
        "id": "view-in-github",
        "colab_type": "text"
      },
      "source": [
        "<a href=\"https://colab.research.google.com/github/Alf-caput/P4_AlgoritmoGenetico/blob/dev3/P4_AlgGen.ipynb\" target=\"_parent\"><img src=\"https://colab.research.google.com/assets/colab-badge.svg\" alt=\"Open In Colab\"/></a>"
      ]
    },
    {
      "cell_type": "markdown",
      "source": [
        "# PRÁCTICA 4: Algoritmo genético\n",
        "\n",
        "###Ana Robledano, Miguel Egido, Alfredo Robledano.\n",
        "\n",
        "1.- Encontrar los máximos de la función \"picos\"\n",
        "\n",
        "$$z = f(x,y) = 3(1-x)^2e^{-(x^2)-(y+1)^2}-10(x/5-x^3-y^5)e^{-x^2-y^2}-1/3e^{-(x+1)^2-y^2}$$\n",
        "\n",
        "En el dominio $$\\{x,y\\} \\in [-100,100]$$\n"
      ],
      "metadata": {
        "id": "5giGahYLeBMH"
      }
    },
    {
      "cell_type": "markdown",
      "source": [
        "2.- Dada la [Función de Rastringin](https://en.wikipedia.org/wiki/Rastrigin_function#:~:text=In%20mathematical%20optimization%2C%20the%20Rastrigin,has%20been%20generalized%20by%20Rudolph.), con A = 10 y  $$\\{xi\\} \\in [-5.12,5.12]$$\n",
        "\n",
        "Implementa dicha función en Python y minimízala para n=10\n",
        "\n",
        "Compara el funcionamiento del Algoritmo Genético para cruce con un punto con cruce con dos puntos"
      ],
      "metadata": {
        "id": "WxoYInJtfPWj"
      }
    },
    {
      "cell_type": "markdown",
      "source": [
        "### Instalación de librerías para resolver Algoritmos Genéticos con Python"
      ],
      "metadata": {
        "id": "46D9abD2f3jA"
      }
    },
    {
      "cell_type": "code",
      "source": [
        "!pip install deap\n",
        "!pip install matplotlib\n",
        "!pip install numpy\n",
        "!pip install scipy\n",
        "!pip install scoop"
      ],
      "metadata": {
        "colab": {
          "base_uri": "https://localhost:8080/"
        },
        "id": "Yc4pv4D7gJ65",
        "outputId": "c8d034a0-b08b-4a1a-e783-fa34574463a7"
      },
      "execution_count": 1,
      "outputs": [
        {
          "output_type": "stream",
          "name": "stdout",
          "text": [
            "Collecting deap\n",
            "  Downloading deap-1.4.1-cp310-cp310-manylinux_2_5_x86_64.manylinux1_x86_64.manylinux_2_17_x86_64.manylinux2014_x86_64.whl (135 kB)\n",
            "\u001b[?25l     \u001b[90m━━━━━━━━━━━━━━━━━━━━━━━━━━━━━━━━━━━━━━━━\u001b[0m \u001b[32m0.0/135.4 kB\u001b[0m \u001b[31m?\u001b[0m eta \u001b[36m-:--:--\u001b[0m\r\u001b[2K     \u001b[90m━━━━━━━━━━━━━━━━━━━━━━━━━━━━━━━━━━━━━━━━\u001b[0m \u001b[32m135.4/135.4 kB\u001b[0m \u001b[31m4.0 MB/s\u001b[0m eta \u001b[36m0:00:00\u001b[0m\n",
            "\u001b[?25hRequirement already satisfied: numpy in /usr/local/lib/python3.10/dist-packages (from deap) (1.23.5)\n",
            "Installing collected packages: deap\n",
            "Successfully installed deap-1.4.1\n",
            "Requirement already satisfied: matplotlib in /usr/local/lib/python3.10/dist-packages (3.7.1)\n",
            "Requirement already satisfied: contourpy>=1.0.1 in /usr/local/lib/python3.10/dist-packages (from matplotlib) (1.2.0)\n",
            "Requirement already satisfied: cycler>=0.10 in /usr/local/lib/python3.10/dist-packages (from matplotlib) (0.12.1)\n",
            "Requirement already satisfied: fonttools>=4.22.0 in /usr/local/lib/python3.10/dist-packages (from matplotlib) (4.45.1)\n",
            "Requirement already satisfied: kiwisolver>=1.0.1 in /usr/local/lib/python3.10/dist-packages (from matplotlib) (1.4.5)\n",
            "Requirement already satisfied: numpy>=1.20 in /usr/local/lib/python3.10/dist-packages (from matplotlib) (1.23.5)\n",
            "Requirement already satisfied: packaging>=20.0 in /usr/local/lib/python3.10/dist-packages (from matplotlib) (23.2)\n",
            "Requirement already satisfied: pillow>=6.2.0 in /usr/local/lib/python3.10/dist-packages (from matplotlib) (9.4.0)\n",
            "Requirement already satisfied: pyparsing>=2.3.1 in /usr/local/lib/python3.10/dist-packages (from matplotlib) (3.1.1)\n",
            "Requirement already satisfied: python-dateutil>=2.7 in /usr/local/lib/python3.10/dist-packages (from matplotlib) (2.8.2)\n",
            "Requirement already satisfied: six>=1.5 in /usr/local/lib/python3.10/dist-packages (from python-dateutil>=2.7->matplotlib) (1.16.0)\n",
            "Requirement already satisfied: numpy in /usr/local/lib/python3.10/dist-packages (1.23.5)\n",
            "Requirement already satisfied: scipy in /usr/local/lib/python3.10/dist-packages (1.11.4)\n",
            "Requirement already satisfied: numpy<1.28.0,>=1.21.6 in /usr/local/lib/python3.10/dist-packages (from scipy) (1.23.5)\n",
            "Collecting scoop\n",
            "  Downloading scoop-0.7.2.0.tar.gz (615 kB)\n",
            "\u001b[2K     \u001b[90m━━━━━━━━━━━━━━━━━━━━━━━━━━━━━━━━━━━━━━━━\u001b[0m \u001b[32m615.4/615.4 kB\u001b[0m \u001b[31m8.3 MB/s\u001b[0m eta \u001b[36m0:00:00\u001b[0m\n",
            "\u001b[?25h  Preparing metadata (setup.py) ... \u001b[?25l\u001b[?25hdone\n",
            "Requirement already satisfied: greenlet>=0.3.4 in /usr/local/lib/python3.10/dist-packages (from scoop) (3.0.1)\n",
            "Requirement already satisfied: pyzmq>=13.1.0 in /usr/local/lib/python3.10/dist-packages (from scoop) (23.2.1)\n",
            "Building wheels for collected packages: scoop\n",
            "  Building wheel for scoop (setup.py) ... \u001b[?25l\u001b[?25hdone\n",
            "  Created wheel for scoop: filename=scoop-0.7.2.0-py3-none-any.whl size=78113 sha256=507d5762f3b32901588b06743c631890d758d26df58c293f3a0f51bea01cf209\n",
            "  Stored in directory: /root/.cache/pip/wheels/26/c6/da/088e4bffcfbc33fa40644ca636267bc801c8fd9eef973483db\n",
            "Successfully built scoop\n",
            "Installing collected packages: scoop\n",
            "Successfully installed scoop-0.7.2.0\n"
          ]
        }
      ]
    },
    {
      "cell_type": "markdown",
      "source": [
        "### Definición del enunciado ###\n"
      ],
      "metadata": {
        "id": "1eInqwBcgwRf"
      }
    },
    {
      "cell_type": "markdown",
      "source": [
        "Se desea encontrar el **máximo** de la función:\n",
        "$$z = f(x,y) = 3(1-x)^2e^{-(x^2)-(y+1)^2}-10(x/5-x^3-y^5)e^{-x^2-y^2}-1/3e^{-(x+1)^2-y^2}$$\n",
        "\n",
        "En el dominio $$\\{x,y\\} \\in [-100,100]$$\n",
        "\n",
        "En este problema, la cadena cromosomática estaría formada por dos genes (cromosomas), que, al confinarse en forma de lista, quedaría como $$[x_i, y_i]$$ con $$i = 1, 2, ... , n$$\n",
        "\n",
        "La **población** del algoritmo **no cambia de tamaño** a lo largo de las generaciones, con lo que **n** será **constante**"
      ],
      "metadata": {
        "id": "48XseHq4hhR2"
      }
    },
    {
      "cell_type": "code",
      "source": [
        "import random\n",
        "import math\n",
        "import numpy as np\n",
        "from deap import base\n",
        "from deap import creator\n",
        "from deap import tools\n",
        "from deap import algorithms\n",
        "import matplotlib.pyplot as plt"
      ],
      "metadata": {
        "id": "1DhJnBTvg7q4"
      },
      "execution_count": null,
      "outputs": []
    },
    {
      "cell_type": "markdown",
      "source": [
        "#### NOTA SOBRE NÚMEROS ALEATORIOS --------------------------"
      ],
      "metadata": {
        "id": "qZ5JYgw7h02O"
      }
    },
    {
      "cell_type": "markdown",
      "source": [
        "Queremos generar números aleatorios entre -100 y 100 (sin incluir a estos). Podemos usar el módulo nativo random de generación de números pseudoaleatorios [Documentación librería random](https://docs.python.org/3/library/random.html) y `numpy.random`(para generación de vectores psudoaleatorios) [Documentación numpy.random](https://docs.scipy.org/doc/numpy-1.16.1/reference/routines.random.html). Recordad que los números totalmente aleatorios no existen en programación.\n",
        "\n",
        "Utilizamos, además, el método `uniform`: [Documentación método uniform](https://docs.python.org/3.6/library/random.html)"
      ],
      "metadata": {
        "id": "VXg-BnRah-sf"
      }
    },
    {
      "cell_type": "code",
      "source": [
        "# Importamos la librería\n",
        "import random\n",
        "# Fijamos la semilla. Si no cambiamos la semilla,\n",
        "# la función generará los mismos número aleatorios\n",
        "random.seed(0)\n",
        "# Generamos los números pseudo-aleatorios en 2 list comprenhension\n",
        "# para encapsular todos los datos en las listas x e y\n",
        "x = [random.uniform(-100, 100) for i in range(10)]\n",
        "y = [random.uniform(-100, 100) for i in range(10)]\n",
        "print('x= ', x)\n",
        "print('y= ', y)"
      ],
      "metadata": {
        "id": "-cURO01Th7Vm"
      },
      "execution_count": null,
      "outputs": []
    }
  ]
}